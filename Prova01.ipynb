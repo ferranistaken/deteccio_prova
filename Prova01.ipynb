{
 "cells": [
  {
   "cell_type": "code",
   "execution_count": 15,
   "id": "c004ba13",
   "metadata": {},
   "outputs": [],
   "source": [
    "!labelme"
   ]
  },
  {
   "cell_type": "markdown",
   "id": "89f4ff7d",
   "metadata": {},
   "source": [
    "### Limitació de la memòria GPU i introducció de les dades a la pipeline de TF\n",
    "\n",
    "##### Les pipelines de TensorFlow són com una línia de muntatge per a les dades. Imagina que tens un conjunt de peces de joguina que vols muntar en un cotxe. En lloc de fer-ho tot tu mateix, pots crear una línia de muntatge on cada persona fa una petita part del treball. Una persona posa les rodes, una altra posa el motor, una altra posa la carrosseria i així successivament fins que el cotxe està complet. Les pipelines de TensorFlow fan el mateix amb les dades. Les dades passen per diferents etapes on es transformen i es preparen per a l’ús en models d’aprenentatge automàtic. Això ajuda a fer el procés més ràpid i eficient."
   ]
  },
  {
   "cell_type": "code",
   "execution_count": 2,
   "id": "5173c00c",
   "metadata": {},
   "outputs": [],
   "source": [
    "#importació de llibreries necessàries\n",
    "import tensorflow as tf\n",
    "import json\n",
    "import numpy as np\n",
    "from matplotlib import pyplot as plt"
   ]
  },
  {
   "cell_type": "code",
   "execution_count": 2,
   "id": "8f5ef329",
   "metadata": {},
   "outputs": [],
   "source": [
    "#limitació de la memòria GPU (buscar doc!!!)\n",
    "gpus = tf.config.experimental.list_physical_devices('GPU')\n",
    "for gpu in gpus: \n",
    "    tf.config.experimental.set_memory_growth(gpu, True)"
   ]
  },
  {
   "cell_type": "code",
   "execution_count": 28,
   "id": "13e8709e",
   "metadata": {},
   "outputs": [
    {
     "ename": "InvalidArgumentError",
     "evalue": "Expected 'tf.Tensor(False, shape=(), dtype=bool)' to be true. Summarized data: b'No files matched pattern: data\\\\images\\\\*.png'",
     "output_type": "error",
     "traceback": [
      "\u001b[1;31m---------------------------------------------------------------------------\u001b[0m",
      "\u001b[1;31mInvalidArgumentError\u001b[0m                      Traceback (most recent call last)",
      "Cell \u001b[1;32mIn[28], line 2\u001b[0m\n\u001b[0;32m      1\u001b[0m \u001b[38;5;66;03m#carregar imatges dins de la pipeline\u001b[39;00m\n\u001b[1;32m----> 2\u001b[0m imatges \u001b[38;5;241m=\u001b[39m \u001b[43mtf\u001b[49m\u001b[38;5;241;43m.\u001b[39;49m\u001b[43mdata\u001b[49m\u001b[38;5;241;43m.\u001b[39;49m\u001b[43mDataset\u001b[49m\u001b[38;5;241;43m.\u001b[39;49m\u001b[43mlist_files\u001b[49m\u001b[43m(\u001b[49m\u001b[38;5;124;43m'\u001b[39;49m\u001b[38;5;124;43mdata\u001b[39;49m\u001b[38;5;130;43;01m\\\\\u001b[39;49;00m\u001b[38;5;124;43mimages\u001b[39;49m\u001b[38;5;130;43;01m\\\\\u001b[39;49;00m\u001b[38;5;124;43m*.png\u001b[39;49m\u001b[38;5;124;43m'\u001b[39;49m\u001b[43m)\u001b[49m \u001b[38;5;66;03m# l'asterisc fa buscar tots els arxius que són png\u001b[39;00m\n",
      "File \u001b[1;32mT:\\env\\lib\\site-packages\\tensorflow\\python\\data\\ops\\dataset_ops.py:1289\u001b[0m, in \u001b[0;36mDatasetV2.list_files\u001b[1;34m(file_pattern, shuffle, seed, name)\u001b[0m\n\u001b[0;32m   1282\u001b[0m condition \u001b[38;5;241m=\u001b[39m math_ops\u001b[38;5;241m.\u001b[39mgreater(array_ops\u001b[38;5;241m.\u001b[39mshape(matching_files)[\u001b[38;5;241m0\u001b[39m], \u001b[38;5;241m0\u001b[39m,\n\u001b[0;32m   1283\u001b[0m                              name\u001b[38;5;241m=\u001b[39m\u001b[38;5;124m\"\u001b[39m\u001b[38;5;124mmatch_not_empty\u001b[39m\u001b[38;5;124m\"\u001b[39m)\n\u001b[0;32m   1285\u001b[0m message \u001b[38;5;241m=\u001b[39m math_ops\u001b[38;5;241m.\u001b[39madd(\n\u001b[0;32m   1286\u001b[0m     \u001b[38;5;124m\"\u001b[39m\u001b[38;5;124mNo files matched pattern: \u001b[39m\u001b[38;5;124m\"\u001b[39m,\n\u001b[0;32m   1287\u001b[0m     string_ops\u001b[38;5;241m.\u001b[39mreduce_join(file_pattern, separator\u001b[38;5;241m=\u001b[39m\u001b[38;5;124m\"\u001b[39m\u001b[38;5;124m, \u001b[39m\u001b[38;5;124m\"\u001b[39m), name\u001b[38;5;241m=\u001b[39m\u001b[38;5;124m\"\u001b[39m\u001b[38;5;124mmessage\u001b[39m\u001b[38;5;124m\"\u001b[39m)\n\u001b[1;32m-> 1289\u001b[0m assert_not_empty \u001b[38;5;241m=\u001b[39m \u001b[43mcontrol_flow_ops\u001b[49m\u001b[38;5;241;43m.\u001b[39;49m\u001b[43mAssert\u001b[49m\u001b[43m(\u001b[49m\n\u001b[0;32m   1290\u001b[0m \u001b[43m    \u001b[49m\u001b[43mcondition\u001b[49m\u001b[43m,\u001b[49m\u001b[43m \u001b[49m\u001b[43m[\u001b[49m\u001b[43mmessage\u001b[49m\u001b[43m]\u001b[49m\u001b[43m,\u001b[49m\u001b[43m \u001b[49m\u001b[43msummarize\u001b[49m\u001b[38;5;241;43m=\u001b[39;49m\u001b[38;5;241;43m1\u001b[39;49m\u001b[43m,\u001b[49m\u001b[43m \u001b[49m\u001b[43mname\u001b[49m\u001b[38;5;241;43m=\u001b[39;49m\u001b[38;5;124;43m\"\u001b[39;49m\u001b[38;5;124;43massert_not_empty\u001b[39;49m\u001b[38;5;124;43m\"\u001b[39;49m\u001b[43m)\u001b[49m\n\u001b[0;32m   1291\u001b[0m \u001b[38;5;28;01mwith\u001b[39;00m ops\u001b[38;5;241m.\u001b[39mcontrol_dependencies([assert_not_empty]):\n\u001b[0;32m   1292\u001b[0m   matching_files \u001b[38;5;241m=\u001b[39m array_ops\u001b[38;5;241m.\u001b[39midentity(matching_files)\n",
      "File \u001b[1;32mT:\\env\\lib\\site-packages\\tensorflow\\python\\util\\traceback_utils.py:153\u001b[0m, in \u001b[0;36mfilter_traceback.<locals>.error_handler\u001b[1;34m(*args, **kwargs)\u001b[0m\n\u001b[0;32m    151\u001b[0m \u001b[38;5;28;01mexcept\u001b[39;00m \u001b[38;5;167;01mException\u001b[39;00m \u001b[38;5;28;01mas\u001b[39;00m e:\n\u001b[0;32m    152\u001b[0m   filtered_tb \u001b[38;5;241m=\u001b[39m _process_traceback_frames(e\u001b[38;5;241m.\u001b[39m__traceback__)\n\u001b[1;32m--> 153\u001b[0m   \u001b[38;5;28;01mraise\u001b[39;00m e\u001b[38;5;241m.\u001b[39mwith_traceback(filtered_tb) \u001b[38;5;28;01mfrom\u001b[39;00m \u001b[38;5;28mNone\u001b[39m\n\u001b[0;32m    154\u001b[0m \u001b[38;5;28;01mfinally\u001b[39;00m:\n\u001b[0;32m    155\u001b[0m   \u001b[38;5;28;01mdel\u001b[39;00m filtered_tb\n",
      "File \u001b[1;32mT:\\env\\lib\\site-packages\\tensorflow\\python\\ops\\control_flow_ops.py:156\u001b[0m, in \u001b[0;36mAssert\u001b[1;34m(condition, data, summarize, name)\u001b[0m\n\u001b[0;32m    154\u001b[0m     xs \u001b[38;5;241m=\u001b[39m ops\u001b[38;5;241m.\u001b[39mconvert_n_to_tensor(data)\n\u001b[0;32m    155\u001b[0m     data_str \u001b[38;5;241m=\u001b[39m [_summarize_eager(x, summarize) \u001b[38;5;28;01mfor\u001b[39;00m x \u001b[38;5;129;01min\u001b[39;00m xs]\n\u001b[1;32m--> 156\u001b[0m     \u001b[38;5;28;01mraise\u001b[39;00m errors\u001b[38;5;241m.\u001b[39mInvalidArgumentError(\n\u001b[0;32m    157\u001b[0m         node_def\u001b[38;5;241m=\u001b[39m\u001b[38;5;28;01mNone\u001b[39;00m,\n\u001b[0;32m    158\u001b[0m         op\u001b[38;5;241m=\u001b[39m\u001b[38;5;28;01mNone\u001b[39;00m,\n\u001b[0;32m    159\u001b[0m         message\u001b[38;5;241m=\u001b[39m\u001b[38;5;124m\"\u001b[39m\u001b[38;5;124mExpected \u001b[39m\u001b[38;5;124m'\u001b[39m\u001b[38;5;132;01m%s\u001b[39;00m\u001b[38;5;124m'\u001b[39m\u001b[38;5;124m to be true. Summarized data: \u001b[39m\u001b[38;5;132;01m%s\u001b[39;00m\u001b[38;5;124m\"\u001b[39m \u001b[38;5;241m%\u001b[39m\n\u001b[0;32m    160\u001b[0m         (condition, \u001b[38;5;124m\"\u001b[39m\u001b[38;5;130;01m\\n\u001b[39;00m\u001b[38;5;124m\"\u001b[39m\u001b[38;5;241m.\u001b[39mjoin(data_str)))\n\u001b[0;32m    161\u001b[0m   \u001b[38;5;28;01mreturn\u001b[39;00m\n\u001b[0;32m    163\u001b[0m \u001b[38;5;28;01mwith\u001b[39;00m ops\u001b[38;5;241m.\u001b[39mname_scope(name, \u001b[38;5;124m\"\u001b[39m\u001b[38;5;124mAssert\u001b[39m\u001b[38;5;124m\"\u001b[39m, [condition, data]) \u001b[38;5;28;01mas\u001b[39;00m name:\n",
      "\u001b[1;31mInvalidArgumentError\u001b[0m: Expected 'tf.Tensor(False, shape=(), dtype=bool)' to be true. Summarized data: b'No files matched pattern: data\\\\images\\\\*.png'"
     ]
    }
   ],
   "source": [
    "#carregar imatges dins de la pipeline\n",
    "imatges = tf.data.Dataset.list_files('data\\\\images\\\\*.png') # l'asterisc fa buscar tots els arxius que són png"
   ]
  },
  {
   "cell_type": "code",
   "execution_count": 9,
   "id": "79ef0171",
   "metadata": {},
   "outputs": [],
   "source": [
    "#funció carregar imatge\n",
    "def carregar_imatge(imatge): \n",
    "    byte_img = tf.io.read_file(imatge)\n",
    "    img = tf.io.decode_png(byte_img)\n",
    "    return img"
   ]
  },
  {
   "cell_type": "code",
   "execution_count": 30,
   "id": "d3b04708",
   "metadata": {},
   "outputs": [
    {
     "ename": "NameError",
     "evalue": "name 'imatges' is not defined",
     "output_type": "error",
     "traceback": [
      "\u001b[1;31m---------------------------------------------------------------------------\u001b[0m",
      "\u001b[1;31mNameError\u001b[0m                                 Traceback (most recent call last)",
      "Cell \u001b[1;32mIn[30], line 1\u001b[0m\n\u001b[1;32m----> 1\u001b[0m imatges \u001b[38;5;241m=\u001b[39m \u001b[43mimatges\u001b[49m\u001b[38;5;241m.\u001b[39mmap(carregar_imatge)\n",
      "\u001b[1;31mNameError\u001b[0m: name 'imatges' is not defined"
     ]
    }
   ],
   "source": [
    "imatges = imatges.map(carregar_imatge)"
   ]
  },
  {
   "cell_type": "code",
   "execution_count": 31,
   "id": "8fef73f1",
   "metadata": {},
   "outputs": [
    {
     "ename": "NameError",
     "evalue": "name 'imatges' is not defined",
     "output_type": "error",
     "traceback": [
      "\u001b[1;31m---------------------------------------------------------------------------\u001b[0m",
      "\u001b[1;31mNameError\u001b[0m                                 Traceback (most recent call last)",
      "Cell \u001b[1;32mIn[31], line 1\u001b[0m\n\u001b[1;32m----> 1\u001b[0m \u001b[43mimatges\u001b[49m\u001b[38;5;241m.\u001b[39mas_numpy_iterator()\u001b[38;5;241m.\u001b[39mnext()\n",
      "\u001b[1;31mNameError\u001b[0m: name 'imatges' is not defined"
     ]
    }
   ],
   "source": [
    "imatges.as_numpy_iterator().next()"
   ]
  },
  {
   "cell_type": "code",
   "execution_count": 32,
   "id": "02379d13",
   "metadata": {
    "scrolled": true
   },
   "outputs": [
    {
     "ename": "NameError",
     "evalue": "name 'imatges' is not defined",
     "output_type": "error",
     "traceback": [
      "\u001b[1;31m---------------------------------------------------------------------------\u001b[0m",
      "\u001b[1;31mNameError\u001b[0m                                 Traceback (most recent call last)",
      "Cell \u001b[1;32mIn[32], line 1\u001b[0m\n\u001b[1;32m----> 1\u001b[0m \u001b[38;5;28mtype\u001b[39m(\u001b[43mimatges\u001b[49m) \u001b[38;5;66;03m#si surt \"tensorflow.python.data.ops.map_op._MapDataset\", les imatges s'han inclòs correctament\u001b[39;00m\n",
      "\u001b[1;31mNameError\u001b[0m: name 'imatges' is not defined"
     ]
    }
   ],
   "source": [
    "type(imatges) #si surt \"tensorflow.python.data.ops.map_op._MapDataset\", les imatges s'han inclòs correctament"
   ]
  },
  {
   "cell_type": "markdown",
   "id": "68f04239",
   "metadata": {},
   "source": [
    "### Divisió de dades per entrenar i validar"
   ]
  },
  {
   "cell_type": "code",
   "execution_count": 4,
   "id": "9706b3e8",
   "metadata": {},
   "outputs": [],
   "source": [
    "import os"
   ]
  },
  {
   "cell_type": "code",
   "execution_count": 34,
   "id": "6200a1ac",
   "metadata": {},
   "outputs": [],
   "source": [
    "def quantImatgesDividir(dir_carpeta):\n",
    "    num_elements = len(os.listdir(dir_carpeta))\n",
    "    n_entrenar = round(num_elements*0.7)\n",
    "    n_provar = round(num_elements*0.15)\n",
    "    n_validar = num_elements - (n_entrenar + n_provar)\n",
    "    print(f\"Has de posar {n_entrenar} a la carpeta 'train', {n_provar} a la carpeta 'test' i {n_validar} a la carpeta 'val'\")"
   ]
  },
  {
   "cell_type": "code",
   "execution_count": 35,
   "id": "ae416b1f",
   "metadata": {},
   "outputs": [
    {
     "name": "stdout",
     "output_type": "stream",
     "text": [
      "Has de posar 0 a la carpeta 'train', 0 a la carpeta 'test' i 0 a la carpeta 'val'\n"
     ]
    }
   ],
   "source": [
    "quantImatgesDividir('T:\\REP\\deteccio_prova\\data\\images')"
   ]
  },
  {
   "cell_type": "code",
   "execution_count": 36,
   "id": "8ee4e38f",
   "metadata": {},
   "outputs": [],
   "source": [
    "for carpeta in ['train','test','val']:\n",
    "    for arxiu in os.listdir(os.path.join('data', carpeta, 'images')): #per cada arxiu en cada carpeta\n",
    "        nom_arxiu = arxiu.split('.')[0]+'.json' #extreu el nom de l'arxiu\n",
    "        dir_existent = os.path.join('data','labels', nom_arxiu)#crea possible direcció\n",
    "        if os.path.exists(dir_existent): #si la possible direcció existeix, desplaça l'arxiu .json corresponent\n",
    "            nova_dir = os.path.join('data',carpeta,'labels',nom_arxiu)\n",
    "            os.replace(dir_existent, nova_dir)#canviem"
   ]
  },
  {
   "cell_type": "markdown",
   "id": "053d7720",
   "metadata": {},
   "source": [
    "## Augment de les dades amb la llibreria Albumentations\n",
    "##### Per augmentar les caixes delimitadores amb Albumentations, primer cal importar les llibreries necessàries i definir una canalització d’augmentació. A continuació, es defineixen els paràmetres de les caixes delimitadores i s’aplica l’augmentació a les imatges d’entrada. Finalment, es visualitzen les imatges augmentades i les caixes delimitadores corresponents.\n",
    "##### Una canalització d’augmentació és una sèrie d’operacions d’augmentació que s’apliquen a les imatges d’entrada per obtenir imatges augmentades. Aquestes operacions poden incloure rotacions, escalatats, desplaçaments i altres transformacions geomètriques que s’apliquen a les imatges d’entrada per crear noves imatges que s’utilitzen per entrenar models de detecció d’objectes.\n"
   ]
  },
  {
   "cell_type": "code",
   "execution_count": 5,
   "id": "f203215d",
   "metadata": {},
   "outputs": [],
   "source": [
    "import albumentations as alb\n",
    "import cv2"
   ]
  },
  {
   "cell_type": "code",
   "execution_count": 38,
   "id": "cbf56e06",
   "metadata": {},
   "outputs": [],
   "source": [
    "#pipeline, el que modifica les imatges\n",
    "augmentor = alb.Compose([alb.RandomCrop(width=1024, height=1024),\n",
    "                         alb.HorizontalFlip(p=0.5), \n",
    "                         alb.RandomBrightnessContrast(p=0.2),\n",
    "                         alb.RandomGamma(p=0.2), \n",
    "                         alb.RGBShift(p=0.2), \n",
    "                         alb.VerticalFlip(p=0.5)], \n",
    "                       bbox_params=alb.BboxParams(format='albumentations', #format de coords que volem (buscar docs)\n",
    "                                                  label_fields=['class_labels']))"
   ]
  },
  {
   "cell_type": "code",
   "execution_count": 39,
   "id": "5df6349d",
   "metadata": {},
   "outputs": [],
   "source": [
    "imatge = cv2.imread(os.path.join('data','train', 'images','10.png')) #obrim imatge"
   ]
  },
  {
   "cell_type": "code",
   "execution_count": 40,
   "id": "8cf51f05",
   "metadata": {},
   "outputs": [],
   "source": [
    "with open(os.path.join('data', 'train', 'labels', '10.json'), 'r') as f: #obrim json corresponent\n",
    "    label = json.load(f)"
   ]
  },
  {
   "cell_type": "code",
   "execution_count": 41,
   "id": "cee75e1b",
   "metadata": {},
   "outputs": [],
   "source": [
    "#extreiem les coordenades\n",
    "coords = [0,0,0,0]\n",
    "coords[0] = label['shapes'][0]['points'][0][0]\n",
    "coords[1] = label['shapes'][0]['points'][0][1]\n",
    "coords[2] = label['shapes'][0]['points'][1][0]\n",
    "coords[3] = label['shapes'][0]['points'][1][1]"
   ]
  },
  {
   "cell_type": "code",
   "execution_count": 42,
   "id": "d7d9741f",
   "metadata": {},
   "outputs": [],
   "source": [
    "#les dividim per a què quadrin amb el model \"albumentations\" que hem escollit\n",
    "coords = list(np.divide(coords, [1024,1024,1024,1024]))\n",
    "#funciona d'una manera proporcional, és a dir, divideix "
   ]
  },
  {
   "cell_type": "code",
   "execution_count": 43,
   "id": "2bca9870",
   "metadata": {},
   "outputs": [
    {
     "data": {
      "text/plain": [
       "[0.5154622395833333,\n",
       " 0.5724283854166666,\n",
       " 0.7498372395833333,\n",
       " 0.8068033854166666]"
      ]
     },
     "execution_count": 43,
     "metadata": {},
     "output_type": "execute_result"
    }
   ],
   "source": [
    "coords"
   ]
  },
  {
   "cell_type": "code",
   "execution_count": 44,
   "id": "eae97812",
   "metadata": {},
   "outputs": [],
   "source": [
    "#aplicar augmentations\n",
    "augmented = augmentor(image=imatge, bboxes=[coords], class_labels=['Maduixa'])"
   ]
  },
  {
   "cell_type": "code",
   "execution_count": 45,
   "id": "f6249112",
   "metadata": {},
   "outputs": [
    {
     "data": {
      "text/plain": [
       "(0.7498372395833333, 0.42757161458333337)"
      ]
     },
     "execution_count": 45,
     "metadata": {},
     "output_type": "execute_result"
    }
   ],
   "source": [
    "augmented['bboxes'][0][2:]"
   ]
  },
  {
   "cell_type": "code",
   "execution_count": 46,
   "id": "c6403290",
   "metadata": {},
   "outputs": [
    {
     "data": {
      "text/plain": [
       "[(0.5154622395833333,\n",
       "  0.19319661458333337,\n",
       "  0.7498372395833333,\n",
       "  0.42757161458333337)]"
      ]
     },
     "execution_count": 46,
     "metadata": {},
     "output_type": "execute_result"
    }
   ],
   "source": [
    "augmented['bboxes']\n"
   ]
  },
  {
   "cell_type": "code",
   "execution_count": 47,
   "id": "5b82a45c",
   "metadata": {},
   "outputs": [
    {
     "data": {
      "text/plain": [
       "<matplotlib.image.AxesImage at 0x148abfa75b0>"
      ]
     },
     "execution_count": 47,
     "metadata": {},
     "output_type": "execute_result"
    },
    {
     "data": {
      "image/png": "[encoded data removed]",
      "text/plain": [
       "<Figure size 640x480 with 1 Axes>"
      ]
     },
     "metadata": {},
     "output_type": "display_data"
    }
   ],
   "source": [
    "cv2.rectangle(augmented['image'], \n",
    "              tuple(np.multiply(augmented['bboxes'][0][:2], [1024,1024]).astype(int)),\n",
    "              tuple(np.multiply(augmented['bboxes'][0][2:], [1024,1024]).astype(int)), \n",
    "                    (255,0,0), 2)\n",
    "\n",
    "plt.imshow(augmented['image'])"
   ]
  },
  {
   "cell_type": "markdown",
   "id": "d147d9b7",
   "metadata": {},
   "source": [
    "### Pipeline sencera"
   ]
  },
  {
   "cell_type": "code",
   "execution_count": 48,
   "id": "f808047e",
   "metadata": {},
   "outputs": [
    {
     "name": "stdout",
     "output_type": "stream",
     "text": [
      "x_max is less than or equal to x_min for bbox [0.6603190104166667, 0.7547200520833334, 0.4471028645833333, 0.5105794270833334, 'Maduixa'].\n",
      "x_max is less than or equal to x_min for bbox [0.73193359375, 0.30712890625, 0.53173828125, 0.07438151041666664, 'Maduixa'].\n",
      "x_max is less than or equal to x_min for bbox [0.9793294270833333, 0.8214518229166666, 0.53662109375, 0.38199869791666663, 'Maduixa'].\n",
      "x_max is less than or equal to x_min for bbox [0.7644856770833333, 0.83935546875, 0.3006184895833333, 0.20458984375, 'Maduixa'].\n",
      "x_max is less than or equal to x_min for bbox [0.20133463541666669, 0.19156901041666666, 0.012532552083333315, 0.43570963541666663, 'Maduixa'].\n",
      "x_max is less than or equal to x_min for bbox [0.48779296875000006, 0.80517578125, 0.25830078125, 0.4080403645833333, 'Maduixa'].\n"
     ]
    }
   ],
   "source": [
    "for partition in ['train','test','val']: \n",
    "    for image in os.listdir(os.path.join('data', partition, 'images')):\n",
    "        img = cv2.imread(os.path.join('data', partition, 'images', image))\n",
    "\n",
    "        coords = [0,0,0.00001,0.00001]\n",
    "        label_path = os.path.join('data', partition, 'labels', f'{image.split(\".\")[0]}.json')\n",
    "        if os.path.exists(label_path):\n",
    "            with open(label_path, 'r') as f:\n",
    "                label = json.load(f)\n",
    "\n",
    "            coords[0] = label['shapes'][0]['points'][0][0]\n",
    "            coords[1] = label['shapes'][0]['points'][0][1]\n",
    "            coords[2] = label['shapes'][0]['points'][1][0]\n",
    "            coords[3] = label['shapes'][0]['points'][1][1]\n",
    "            coords = list(np.divide(coords, [1024,1024,1024,1024]))\n",
    "            # ^^^ carregar imatges i json ^^^\n",
    "\n",
    "        try: \n",
    "            for x in range(60):# quantitat d'imatges que surten d'una imatge base\n",
    "                augmented = augmentor(image=img, bboxes=[coords], class_labels=['Maduixa'])\n",
    "                cv2.imwrite(os.path.join('aug_data', partition, 'images', f'{image.split(\".\")[0]}.{x}.jpg'),augmented['image'])\n",
    "                \n",
    "                annotation = {}\n",
    "                annotation['image'] = image\n",
    "\n",
    "                if os.path.exists(label_path):\n",
    "                    if len(augmented['bboxes']) == 0: \n",
    "                        annotation['bbox'] = [0,0,0,0]\n",
    "                        annotation['class'] = 0 \n",
    "                    else: \n",
    "                        annotation['bbox'] = augmented['bboxes'][0]\n",
    "                        annotation['class'] = 1\n",
    "                else: \n",
    "                    annotation['bbox'] = [0,0,0,0]\n",
    "                    annotation['class'] = 0 \n",
    "                    '''\n",
    "                     La variable “annotation” és un diccionari que conté informació sobre la imatge i \n",
    "                     la seva anotació. Si el fitxer d’anotació existeix, el codi afegeix la caixa delimitadora\n",
    "                     i la classe corresponent a l’objecte detectat a l’estructura “annotation”. \n",
    "                     Si el fitxer d’anotació no existeix, el codi assigna una caixa delimitadora i \n",
    "                     una classe buida a l’estructura “annotation”.\n",
    "                    '''\n",
    "                with open(os.path.join('aug_data', partition, 'labels', f'{image.split(\".\")[0]}.{x}.json'), 'w') as f:\n",
    "                    json.dump(annotation, f)\n",
    "\n",
    "        except Exception as e:\n",
    "            print(e)"
   ]
  },
  {
   "cell_type": "markdown",
   "id": "402f1987",
   "metadata": {},
   "source": [
    "### Pujar les labels al TensorFlow  \n",
    "##### Ara toca crear variables per a tf amb totes les imatges de les carpetes corresponents per a començar l'entrenament de la VGG16"
   ]
  },
  {
   "cell_type": "code",
   "execution_count": 10,
   "id": "f1634b64",
   "metadata": {},
   "outputs": [],
   "source": [
    "#Obrim les carpetes amb les img a manipular i les carreguem\n",
    "train_images = tf.data.Dataset.list_files('aug_data\\\\train\\\\images\\\\*.jpg',shuffle=False)\n",
    "train_images = train_images.map(carregar_imatge)\n",
    "#Es fa resize de les img i també baixem l'escala de la imatge a 1\n",
    "train_images = train_images.map(lambda x: tf.image.resize(x, (250,250)))\n",
    "train_images = train_images.map(lambda x: x/255)"
   ]
  },
  {
   "cell_type": "code",
   "execution_count": 11,
   "id": "9f01a6f6",
   "metadata": {},
   "outputs": [],
   "source": [
    "test_images = tf.data.Dataset.list_files('aug_data\\\\test\\\\images\\\\*.jpg', shuffle=False)\n",
    "test_images = test_images.map(carregar_imatge)\n",
    "test_images = test_images.map(lambda x: tf.image.resize(x, (250,250)))\n",
    "test_images = test_images.map(lambda x: x/255)"
   ]
  },
  {
   "cell_type": "code",
   "execution_count": 12,
   "id": "bbd3a6b0",
   "metadata": {},
   "outputs": [],
   "source": [
    "val_images = tf.data.Dataset.list_files('aug_data\\\\val\\\\images\\\\*.jpg', shuffle=False)\n",
    "val_images = val_images.map(carregar_imatge)\n",
    "val_images = val_images.map(lambda x: tf.image.resize(x, (250,250)))\n",
    "val_images = val_images.map(lambda x: x/255)"
   ]
  },
  {
   "cell_type": "code",
   "execution_count": 13,
   "id": "35b2789f",
   "metadata": {},
   "outputs": [
    {
     "data": {
      "text/plain": [
       "array([[[0.41231132, 0.47113487, 0.48289958],\n",
       "        [0.41050264, 0.4693262 , 0.4810909 ],\n",
       "        [0.4102723 , 0.46909583, 0.48086053],\n",
       "        ...,\n",
       "        [0.46825325, 0.5270768 , 0.5388415 ],\n",
       "        [0.46310928, 0.5219328 , 0.5336975 ],\n",
       "        [0.4602197 , 0.51904327, 0.530808  ]],\n",
       "\n",
       "       [[0.4107572 , 0.46958074, 0.48639643],\n",
       "        [0.4126638 , 0.4714873 , 0.488303  ],\n",
       "        [0.4179498 , 0.47677332, 0.493589  ],\n",
       "        ...,\n",
       "        [0.46780682, 0.52663034, 0.53839505],\n",
       "        [0.47234982, 0.53117335, 0.54293805],\n",
       "        [0.4709648 , 0.5297883 , 0.541553  ]],\n",
       "\n",
       "       [[0.41418037, 0.47300392, 0.48680785],\n",
       "        [0.41494682, 0.47377035, 0.48757425],\n",
       "        [0.4122949 , 0.47111842, 0.48492235],\n",
       "        ...,\n",
       "        [0.46854016, 0.52736366, 0.53912836],\n",
       "        [0.47682944, 0.535653  , 0.5474177 ],\n",
       "        [0.46556294, 0.52438647, 0.5361512 ]],\n",
       "\n",
       "       ...,\n",
       "\n",
       "       [[0.48095685, 0.5397804 , 0.5550902 ],\n",
       "        [0.48161367, 0.54043716, 0.55220187],\n",
       "        [0.47375536, 0.5325789 , 0.5443436 ],\n",
       "        ...,\n",
       "        [0.47945127, 0.53827477, 0.5578826 ],\n",
       "        [0.48831427, 0.5471378 , 0.56674564],\n",
       "        [0.49178612, 0.55060965, 0.5702175 ]],\n",
       "\n",
       "       [[0.4733683 , 0.5321919 , 0.5475016 ],\n",
       "        [0.4776676 , 0.5364911 , 0.5482558 ],\n",
       "        [0.4844328 , 0.54325634, 0.55502105],\n",
       "        ...,\n",
       "        [0.49019608, 0.54901963, 0.5686275 ],\n",
       "        [0.48351893, 0.5423424 , 0.56195027],\n",
       "        [0.48513293, 0.5439565 , 0.56356436]],\n",
       "\n",
       "       [[0.4745099 , 0.5333335 , 0.54864323],\n",
       "        [0.47526264, 0.53408617, 0.5458509 ],\n",
       "        [0.47855297, 0.5373765 , 0.5491412 ],\n",
       "        ...,\n",
       "        [0.4906571 , 0.5494806 , 0.56908846],\n",
       "        [0.48881224, 0.54763573, 0.5672436 ],\n",
       "        [0.490026  , 0.5488495 , 0.56845737]]], dtype=float32)"
      ]
     },
     "execution_count": 13,
     "metadata": {},
     "output_type": "execute_result"
    }
   ],
   "source": [
    "'''\n",
    "Això obté les img i les transforma a un array de NumPy (una estructura de dades en forma de \n",
    "taula multidimensional) per al entrenament de la VGG16\n",
    "'''\n",
    "train_images.as_numpy_iterator().next() "
   ]
  },
  {
   "cell_type": "markdown",
   "id": "b35abd66",
   "metadata": {},
   "source": [
    "### Carregar labels"
   ]
  },
  {
   "cell_type": "code",
   "execution_count": 14,
   "id": "5b901c14",
   "metadata": {},
   "outputs": [],
   "source": [
    "#funció que carrega els labels\n",
    "def carregar_labels(x):\n",
    "    with open(x.numpy(), 'r', encoding='utf-8') as f:\n",
    "        label = json.load(f)\n",
    "    return [label['class']],label['bbox']"
   ]
  },
  {
   "cell_type": "code",
   "execution_count": 15,
   "id": "b2bb0e97",
   "metadata": {},
   "outputs": [],
   "source": [
    "'''\n",
    "incloem els arxius en una Dataset; Un dataset és un conjunt de dades \n",
    "que es pot utilitzar per entrenar un model de xarxa neuronal o per \n",
    "avaluar-ne el rendiment. TensorFlow Datasets és una col·lecció de \n",
    "datasets preparats per utilitzar amb TensorFlow\n",
    "\n",
    " L'última línia s’utilitza per aplicar una funció personalitzada a cada element d’un tensor\n",
    " de dades TensorFlow. En aquest cas, la funció personalitzada és “carregar_labels”\n",
    " i s’aplica a cada element del tensor “train_labels”. La funció “carregar_labels” \n",
    " pren un element x com a entrada i retorna dos tensors de dades TensorFlow com a \n",
    " sortida: un tensor de dades uint8 i un tensor de dades float16. \n",
    " Això significa que la variable “train_labels” conté etiquetes d’imatges\n",
    " que s’utilitzen per entrenar un model de xarxa neuronal\n",
    " \n",
    " Un tensor de dades de TensorFlow és un objecte que representa una matriu\n",
    " multidimensional d’elements. Cada element en el tensor té el mateix tipus de dades\n",
    " i el tipus de dades és sempre conegut. TensorFlow representa els tensors com a\n",
    " matrius n-dimensionals de tipus de dades base. Els tensors són l’estructura de dades \n",
    " principal en TensorFlow i s’utilitzen per representar tant les entrades com les sortides d’un model.\n",
    "'''\n",
    "train_labels = tf.data.Dataset.list_files('aug_data\\\\train\\\\labels\\\\*.json', shuffle=False)\n",
    "train_labels = train_labels.map(lambda x: tf.py_function(carregar_labels, [x], [tf.uint8, tf.float16]))\n"
   ]
  },
  {
   "cell_type": "code",
   "execution_count": 16,
   "id": "102b670a",
   "metadata": {},
   "outputs": [],
   "source": [
    "test_labels = tf.data.Dataset.list_files('aug_data\\\\test\\\\labels\\\\*.json', shuffle=False)\n",
    "test_labels = test_labels.map(lambda x: tf.py_function(carregar_labels, [x], [tf.uint8, tf.float16]))"
   ]
  },
  {
   "cell_type": "code",
   "execution_count": 17,
   "id": "2614c9a0",
   "metadata": {},
   "outputs": [],
   "source": [
    "val_labels = tf.data.Dataset.list_files('aug_data\\\\val\\\\labels\\\\*.json', shuffle=False)\n",
    "val_labels = val_labels.map(lambda x: tf.py_function(carregar_labels, [x], [tf.uint8, tf.float16]))"
   ]
  },
  {
   "cell_type": "code",
   "execution_count": 18,
   "id": "bfc1c898",
   "metadata": {},
   "outputs": [
    {
     "data": {
      "text/plain": [
       "(array([1], dtype=uint8),\n",
       " array([0.2502, 0.1932, 0.4846, 0.4275], dtype=float16))"
      ]
     },
     "execution_count": 18,
     "metadata": {},
     "output_type": "execute_result"
    }
   ],
   "source": [
    "\n",
    "''' \n",
    "si surt: \n",
    "(array([1], dtype=uint8),\n",
    " array([n,n,n,n], dtype=float16))\n",
    " està bé\n",
    "'''\n",
    "train_labels.as_numpy_iterator().next()\n"
   ]
  },
  {
   "cell_type": "markdown",
   "id": "1ea2313f",
   "metadata": {},
   "source": [
    "### Combinar Labels i imatges"
   ]
  },
  {
   "cell_type": "code",
   "execution_count": 19,
   "id": "ec8e7ef0",
   "metadata": {},
   "outputs": [
    {
     "name": "stdout",
     "output_type": "stream",
     "text": [
      "Train: 1800, Test: 420, Val: 420\n"
     ]
    }
   ],
   "source": [
    "#cal comprovar quantes imatges hi ha en cada carpeta\n",
    "print(\"Train: \" + str(len(train_labels)) + \", Test: \" + str(len(test_labels)) + \", Val: \" + str(len(val_labels)))"
   ]
  },
  {
   "cell_type": "code",
   "execution_count": 20,
   "id": "a31d3f71",
   "metadata": {},
   "outputs": [],
   "source": [
    "train = tf.data.Dataset.zip((train_images, train_labels)) #mètode que junta les imatges amb els labels\n",
    "train = train.shuffle(2000) #posar el número que hi ha apoximat cap amunt, en aquest cas 2000\n",
    "train = train.batch(8)#crear lots de 8\n",
    "train = train.prefetch(4)#redueix la capacitat de procesar per evitar errors crec (buscar)"
   ]
  },
  {
   "cell_type": "code",
   "execution_count": 21,
   "id": "ea53a13c",
   "metadata": {},
   "outputs": [],
   "source": [
    "test = tf.data.Dataset.zip((test_images, test_labels))\n",
    "test = test.shuffle(500)\n",
    "test = test.batch(8)\n",
    "test = test.prefetch(4)"
   ]
  },
  {
   "cell_type": "code",
   "execution_count": 22,
   "id": "5d4a4f61",
   "metadata": {},
   "outputs": [],
   "source": [
    "val = tf.data.Dataset.zip((val_images, val_labels))\n",
    "val = val.shuffle(500)\n",
    "val = val.batch(8)\n",
    "val = val.prefetch(4)"
   ]
  },
  {
   "cell_type": "code",
   "execution_count": 23,
   "id": "06732120",
   "metadata": {},
   "outputs": [
    {
     "data": {
      "text/plain": [
       "(array([[1],\n",
       "        [1],\n",
       "        [1],\n",
       "        [1],\n",
       "        [1],\n",
       "        [1],\n",
       "        [1],\n",
       "        [1]], dtype=uint8),\n",
       " array([[0.2537 , 0.1536 , 0.562  , 0.6343 ],\n",
       "        [0.247  , 0.4797 , 0.561  , 0.7383 ],\n",
       "        [0.0995 , 0.4175 , 0.4397 , 0.7183 ],\n",
       "        [0.0796 , 0.175  , 0.5083 , 0.6616 ],\n",
       "        [0.09644, 0.07886, 0.4978 , 0.5825 ],\n",
       "        [0.725  , 0.7485 , 0.8564 , 0.921  ],\n",
       "        [0.4917 , 0.175  , 0.9204 , 0.6616 ],\n",
       "        [0.2734 , 0.0819 , 0.7573 , 0.68   ]], dtype=float16))"
      ]
     },
     "execution_count": 23,
     "metadata": {},
     "output_type": "execute_result"
    }
   ],
   "source": [
    "train.as_numpy_iterator().next()[1] #haurien de sortir 8 labels amb si existeix (0 o 1) i les coords"
   ]
  },
  {
   "cell_type": "markdown",
   "id": "22d41978",
   "metadata": {},
   "source": [
    "### \"Creem\" la IA amb l'API function de la VGG16"
   ]
  },
  {
   "cell_type": "code",
   "execution_count": 24,
   "id": "325e76a0",
   "metadata": {},
   "outputs": [],
   "source": [
    "#La línia 2 importa les capes de Input, de convolució 2D, de connexió i de agregació màxima global\n",
    "from tensorflow.keras.models import Model\n",
    "from tensorflow.keras.layers import Input, Conv2D, Dense, GlobalMaxPooling2D\n",
    "from tensorflow.keras.applications import VGG16"
   ]
  },
  {
   "cell_type": "code",
   "execution_count": 25,
   "id": "fda8d567",
   "metadata": {},
   "outputs": [],
   "source": [
    "vgg = VGG16(include_top=False) \n",
    "#Marca que les ultimes capes de la xarxa no les utilitzarem perque afegirem les nostrtes propies!"
   ]
  },
  {
   "cell_type": "code",
   "execution_count": 26,
   "id": "be9f9ffc",
   "metadata": {},
   "outputs": [
    {
     "name": "stdout",
     "output_type": "stream",
     "text": [
      "Model: \"vgg16\"\n",
      "_________________________________________________________________\n",
      " Layer (type)                Output Shape              Param #   \n",
      "=================================================================\n",
      " input_2 (InputLayer)        [(None, None, None, 3)]   0         \n",
      "                                                                 \n",
      " block1_conv1 (Conv2D)       (None, None, None, 64)    1792      \n",
      "                                                                 \n",
      " block1_conv2 (Conv2D)       (None, None, None, 64)    36928     \n",
      "                                                                 \n",
      " block1_pool (MaxPooling2D)  (None, None, None, 64)    0         \n",
      "                                                                 \n",
      " block2_conv1 (Conv2D)       (None, None, None, 128)   73856     \n",
      "                                                                 \n",
      " block2_conv2 (Conv2D)       (None, None, None, 128)   147584    \n",
      "                                                                 \n",
      " block2_pool (MaxPooling2D)  (None, None, None, 128)   0         \n",
      "                                                                 \n",
      " block3_conv1 (Conv2D)       (None, None, None, 256)   295168    \n",
      "                                                                 \n",
      " block3_conv2 (Conv2D)       (None, None, None, 256)   590080    \n",
      "                                                                 \n",
      " block3_conv3 (Conv2D)       (None, None, None, 256)   590080    \n",
      "                                                                 \n",
      " block3_pool (MaxPooling2D)  (None, None, None, 256)   0         \n",
      "                                                                 \n",
      " block4_conv1 (Conv2D)       (None, None, None, 512)   1180160   \n",
      "                                                                 \n",
      " block4_conv2 (Conv2D)       (None, None, None, 512)   2359808   \n",
      "                                                                 \n",
      " block4_conv3 (Conv2D)       (None, None, None, 512)   2359808   \n",
      "                                                                 \n",
      " block4_pool (MaxPooling2D)  (None, None, None, 512)   0         \n",
      "                                                                 \n",
      " block5_conv1 (Conv2D)       (None, None, None, 512)   2359808   \n",
      "                                                                 \n",
      " block5_conv2 (Conv2D)       (None, None, None, 512)   2359808   \n",
      "                                                                 \n",
      " block5_conv3 (Conv2D)       (None, None, None, 512)   2359808   \n",
      "                                                                 \n",
      " block5_pool (MaxPooling2D)  (None, None, None, 512)   0         \n",
      "                                                                 \n",
      "=================================================================\n",
      "Total params: 14,714,688\n",
      "Trainable params: 14,714,688\n",
      "Non-trainable params: 0\n",
      "_________________________________________________________________\n"
     ]
    }
   ],
   "source": [
    "vgg.summary()"
   ]
  },
  {
   "cell_type": "code",
   "execution_count": 27,
   "id": "929081a2",
   "metadata": {},
   "outputs": [],
   "source": [
    "'''\n",
    "La funció crea i retorna un model de xarxa neuronal convolucional per a la detecció de \n",
    "les maduixes. El model té dues parts: una per a determinar si una imatge té una maduixa o no \n",
    "i una altra per a localitzar la maduixa en la imatge. \n",
    "Al utilitzar VGG16, com que esta pre-entrenada, les característiques del INPUT\n",
    "i les classifica en dues branques que son les dues parts mencionades abans de manera \"automàtica\". \n",
    "'''\n",
    "\n",
    "def build_model(): \n",
    "    input_layer = Input(shape=(250,250,3))\n",
    "    \n",
    "    vgg = VGG16(include_top=False)(input_layer)\n",
    "    #Model de classificació\n",
    "    f1 = GlobalMaxPooling2D()(vgg)\n",
    "    class1 = Dense(2048, activation='relu')(f1) #relu == funció que determina la classe; si és maduixa o no\n",
    "    class2 = Dense(1, activation='sigmoid')(class1) # sigmoid == funció que determina la probabilitat\n",
    "    '''\n",
    "    sigmoid = f(x) = 1/(1+e^-x)\n",
    "    '''\n",
    "    #Model de localització de coordenades\n",
    "    f2 = GlobalMaxPooling2D()(vgg)\n",
    "    regress1 = Dense(2048, activation='relu')(f2)\n",
    "    regress2 = Dense(4, activation='sigmoid')(regress1)\n",
    "    \n",
    "    facetracker = Model(inputs=input_layer, outputs=[class2, regress2])\n",
    "    return facetracker"
   ]
  },
  {
   "cell_type": "code",
   "execution_count": 28,
   "id": "000b16a6",
   "metadata": {},
   "outputs": [
    {
     "data": {
      "text/plain": [
       "(array([[1],\n",
       "        [1],\n",
       "        [1],\n",
       "        [1],\n",
       "        [1],\n",
       "        [1],\n",
       "        [1],\n",
       "        [1]], dtype=uint8),\n",
       " array([[0.4382, 0.1536, 0.7466, 0.6343],\n",
       "        [0.1514, 0.332 , 0.452 , 0.6265],\n",
       "        [0.6577, 0.1185, 0.861 , 0.4207],\n",
       "        [0.3726, 0.2178, 0.777 , 0.7383],\n",
       "        [0.2537, 0.3657, 0.562 , 0.846 ],\n",
       "        [0.67  , 0.4343, 0.881 , 0.703 ],\n",
       "        [0.2712, 0.1688, 0.672 , 0.538 ],\n",
       "        [0.3284, 0.1688, 0.7285, 0.538 ]], dtype=float16))"
      ]
     },
     "execution_count": 28,
     "metadata": {},
     "output_type": "execute_result"
    }
   ],
   "source": [
    "train.as_numpy_iterator().next()[1]"
   ]
  },
  {
   "cell_type": "markdown",
   "id": "09698c5f",
   "metadata": {},
   "source": [
    "### Prova de la xarxa neuronal :DD"
   ]
  },
  {
   "cell_type": "code",
   "execution_count": 29,
   "id": "4530a5cd",
   "metadata": {},
   "outputs": [],
   "source": [
    "detector = build_model()"
   ]
  },
  {
   "cell_type": "code",
   "execution_count": 30,
   "id": "3e76056c",
   "metadata": {
    "scrolled": false
   },
   "outputs": [
    {
     "name": "stdout",
     "output_type": "stream",
     "text": [
      "Model: \"model\"\n",
      "__________________________________________________________________________________________________\n",
      " Layer (type)                   Output Shape         Param #     Connected to                     \n",
      "==================================================================================================\n",
      " input_3 (InputLayer)           [(None, 250, 250, 3  0           []                               \n",
      "                                )]                                                                \n",
      "                                                                                                  \n",
      " vgg16 (Functional)             (None, None, None,   14714688    ['input_3[0][0]']                \n",
      "                                512)                                                              \n",
      "                                                                                                  \n",
      " global_max_pooling2d (GlobalMa  (None, 512)         0           ['vgg16[0][0]']                  \n",
      " xPooling2D)                                                                                      \n",
      "                                                                                                  \n",
      " global_max_pooling2d_1 (Global  (None, 512)         0           ['vgg16[0][0]']                  \n",
      " MaxPooling2D)                                                                                    \n",
      "                                                                                                  \n",
      " dense (Dense)                  (None, 2048)         1050624     ['global_max_pooling2d[0][0]']   \n",
      "                                                                                                  \n",
      " dense_2 (Dense)                (None, 2048)         1050624     ['global_max_pooling2d_1[0][0]'] \n",
      "                                                                                                  \n",
      " dense_1 (Dense)                (None, 1)            2049        ['dense[0][0]']                  \n",
      "                                                                                                  \n",
      " dense_3 (Dense)                (None, 4)            8196        ['dense_2[0][0]']                \n",
      "                                                                                                  \n",
      "==================================================================================================\n",
      "Total params: 16,826,181\n",
      "Trainable params: 16,826,181\n",
      "Non-trainable params: 0\n",
      "__________________________________________________________________________________________________\n"
     ]
    }
   ],
   "source": [
    "'''\n",
    "Descripció resumida de la xarxa neuronal que acabem de construir,\n",
    "inclou el nombre de capes, el nombre de paràmetres que ha après durant l'entrenament \n",
    "i la forma de les dades que entren i surten de la xarxa.\n",
    "'''\n",
    "detector.summary()"
   ]
  },
  {
   "cell_type": "code",
   "execution_count": 31,
   "id": "f4af5a39",
   "metadata": {},
   "outputs": [],
   "source": [
    "X, y = train.as_numpy_iterator().next()"
   ]
  },
  {
   "cell_type": "code",
   "execution_count": 32,
   "id": "bf8300b4",
   "metadata": {},
   "outputs": [
    {
     "data": {
      "text/plain": [
       "(8, 250, 250, 3)"
      ]
     },
     "execution_count": 32,
     "metadata": {},
     "output_type": "execute_result"
    }
   ],
   "source": [
    "X.shape"
   ]
  },
  {
   "cell_type": "code",
   "execution_count": 33,
   "id": "45386b53",
   "metadata": {},
   "outputs": [
    {
     "name": "stdout",
     "output_type": "stream",
     "text": [
      "1/1 [==============================] - 4s 4s/step\n"
     ]
    }
   ],
   "source": [
    "classes, coords = detector.predict(X)"
   ]
  },
  {
   "cell_type": "code",
   "execution_count": 34,
   "id": "64665499",
   "metadata": {},
   "outputs": [
    {
     "data": {
      "text/plain": [
       "(array([[0.4808506 ],\n",
       "        [0.41458595],\n",
       "        [0.49369565],\n",
       "        [0.4503632 ],\n",
       "        [0.42670146],\n",
       "        [0.4932276 ],\n",
       "        [0.5011447 ],\n",
       "        [0.4937671 ]], dtype=float32),\n",
       " array([[0.49249214, 0.5080006 , 0.19113675, 0.6748703 ],\n",
       "        [0.51083106, 0.65499765, 0.25369695, 0.6543553 ],\n",
       "        [0.53460157, 0.53803897, 0.31054655, 0.6241637 ],\n",
       "        [0.5338668 , 0.59485054, 0.24481687, 0.6621105 ],\n",
       "        [0.58234626, 0.5397597 , 0.1799118 , 0.7518662 ],\n",
       "        [0.54039997, 0.54023933, 0.31156492, 0.6268107 ],\n",
       "        [0.49426454, 0.56628263, 0.18934256, 0.6539333 ],\n",
       "        [0.48190182, 0.5381017 , 0.29557115, 0.5801181 ]], dtype=float32))"
      ]
     },
     "execution_count": 34,
     "metadata": {},
     "output_type": "execute_result"
    }
   ],
   "source": [
    "classes, coords"
   ]
  },
  {
   "cell_type": "markdown",
   "id": "d3de9123",
   "metadata": {},
   "source": [
    "## Definir pèrdues i optimitzadors\n",
    "##### Els optimitzadors són algorismes que s’utilitzen per ajustar els pesos d’una xarxa neuronal durant l’entrenament. Els optimitzadors són responsables de minimitzar la funció de pèrdua de la xarxa neuronal."
   ]
  },
  {
   "cell_type": "code",
   "execution_count": 35,
   "id": "49b14b56",
   "metadata": {},
   "outputs": [],
   "source": [
    "'''\n",
    "En el context de les xarxes neuronals, un optimitzador és un algorisme\n",
    "que ajuda a ajustar els paràmetres de la xarxa per aconseguir una millor precisió.\n",
    "L’optimitzador Adam és un exemple d’això i ajuda a l’optimitzador a convergir més ràpidament\n",
    "i amb més precisió.\n",
    "'''\n",
    "opt = tf.keras.optimizers.Adam(learning_rate=0.0001) #li introduïm el decay que hem calculat a l'optimitzador"
   ]
  },
  {
   "cell_type": "code",
   "execution_count": 36,
   "id": "9797ad76",
   "metadata": {},
   "outputs": [],
   "source": [
    "'''\n",
    "La funció té dos components: la pèrdua de localització i la pèrdua de classificació.\n",
    "La pèrdua de localització mesura la diferència entre les coordenades dels quadres delimitadors \n",
    "predits i les coordenades dels quadres delimitadors reals. La pèrdua de classificació mesura la\n",
    "diferència entre les probabilitats de classe predites i les probabilitats de classe reals. \n",
    "En aquesta funció, només es calcula la pèrdua de localització.\n",
    "\n",
    "La funció té com a entrada dos tensors: y_true i yhat. \n",
    "y_true conté les coordenades dels quadres delimitadors reals i\n",
    "les probabilitats de classe reals per a cada objecte en la imatge d’entrada.\n",
    "yhat conté les coordenades dels quadres delimitadors predits i les\n",
    "probabilitats de classe predites per a cada objecte en la imatge d’entrada.\n",
    "\n",
    "La funció calcula la pèrdua de localització sumant el quadrat de la diferència\n",
    "entre les coordenades dels quadres delimitadors reals i les coordenades dels quadres\n",
    "delimitadors predits. A continuació, calcula la diferència entre l’amplada i l’alçada\n",
    "dels quadres delimitadors reals i els quadres delimitadors predits i suma els quadrats\n",
    "d’aquestes diferències. Finalment, retorna la suma de les dues pèrdues.\n",
    "'''\n",
    "\n",
    "def localization_loss(y_true, yhat):#primer valor: coordenades reals, segon valor: coordenades previstes     \n",
    "    delta_coord = tf.reduce_sum(tf.square(y_true[:,:2] - yhat[:,:2])) #diferència dels dos primers valors de cada fila de la matriu\n",
    "                  \n",
    "    h_true = y_true[:,3] - y_true[:,1] #quarta columna d'una matriu - segona columna\n",
    "    w_true = y_true[:,2] - y_true[:,0] #tercera columna - primera\n",
    "\n",
    "    h_pred = yhat[:,3] - yhat[:,1] \n",
    "    w_pred = yhat[:,2] - yhat[:,0] \n",
    "    '''\n",
    "    delta_size = suma dels quadrats de les diferències entre les dimensions originals \n",
    "    i les dimensions reconstruïdes de l’imatge.\n",
    "    '''\n",
    "    delta_size = tf.reduce_sum(tf.square(w_true - w_pred) + tf.square(h_true-h_pred))\n",
    "    return delta_coord + delta_size"
   ]
  },
  {
   "cell_type": "code",
   "execution_count": 37,
   "id": "e5fe89ee",
   "metadata": {},
   "outputs": [],
   "source": [
    "classloss = tf.keras.losses.BinaryCrossentropy() #model que fa una classificació binaria \n",
    "regressloss = localization_loss #model que acabem de crear"
   ]
  },
  {
   "cell_type": "code",
   "execution_count": 38,
   "id": "e3fafec3",
   "metadata": {},
   "outputs": [
    {
     "data": {
      "text/plain": [
       "<tf.Tensor: shape=(), dtype=float32, numpy=5.0858197>"
      ]
     },
     "execution_count": 38,
     "metadata": {},
     "output_type": "execute_result"
    }
   ],
   "source": [
    "#test, en les 2 cel·les inferiors s'hauria d'obtenir : <tf.Tensor: shape=(), dtype=float32, numpy=n>\n",
    "regressloss(y[1], coords) #y[0] ==> 0 o 1 (hi ha maduixa o no) , y[1] ==> coords (tot del batch sencer)"
   ]
  },
  {
   "cell_type": "code",
   "execution_count": 39,
   "id": "16818f5f",
   "metadata": {},
   "outputs": [
    {
     "data": {
      "text/plain": [
       "<tf.Tensor: shape=(), dtype=float32, numpy=0.758902>"
      ]
     },
     "execution_count": 39,
     "metadata": {},
     "output_type": "execute_result"
    }
   ],
   "source": [
    "classloss(y[0], classes) #numpy ==> probabilitat"
   ]
  },
  {
   "cell_type": "code",
   "execution_count": 40,
   "id": "32ba1c49",
   "metadata": {},
   "outputs": [
    {
     "data": {
      "text/plain": [
       "<tf.Tensor: shape=(), dtype=float32, numpy=5.0858197>"
      ]
     },
     "execution_count": 40,
     "metadata": {},
     "output_type": "execute_result"
    }
   ],
   "source": [
    "localization_loss(y[1],coords)"
   ]
  },
  {
   "cell_type": "markdown",
   "id": "11b2c37b",
   "metadata": {},
   "source": [
    "# venga va fes el 10 valenta"
   ]
  }
 ],
 "metadata": {
  "kernelspec": {
   "display_name": "Python 3 (ipykernel)",
   "language": "python",
   "name": "python3"
  },
  "language_info": {
   "codemirror_mode": {
    "name": "ipython",
    "version": 3
   },
   "file_extension": ".py",
   "mimetype": "text/x-python",
   "name": "python",
   "nbconvert_exporter": "python",
   "pygments_lexer": "ipython3",
   "version": "3.10.10"
  }
 },
 "nbformat": 4,
 "nbformat_minor": 5
}
