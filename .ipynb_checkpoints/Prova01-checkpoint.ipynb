{
 "cells": [
  {
   "cell_type": "code",
   "execution_count": 2,
   "id": "c004ba13",
   "metadata": {},
   "outputs": [],
   "source": [
    "!labelme"
   ]
  },
  {
   "cell_type": "markdown",
   "id": "89f4ff7d",
   "metadata": {},
   "source": [
    "### Limitació de la memòria GPU i introducció de les dades a la pipeline de TF\n",
    "\n",
    "##### Les pipelines de TensorFlow són com una línia de muntatge per a les dades. Imagina que tens un conjunt de peces de joguina que vols muntar en un cotxe. En lloc de fer-ho tot tu mateix, pots crear una línia de muntatge on cada persona fa una petita part del treball. Una persona posa les rodes, una altra posa el motor, una altra posa la carrosseria i així successivament fins que el cotxe està complet. Les pipelines de TensorFlow fan el mateix amb les dades. Les dades passen per diferents etapes on es transformen i es preparen per a l’ús en models d’aprenentatge automàtic. Això ajuda a fer el procés més ràpid i eficient."
   ]
  },
  {
   "cell_type": "code",
   "execution_count": 2,
   "id": "5173c00c",
   "metadata": {},
   "outputs": [],
   "source": [
    "#importació de llibreries necessàries\n",
    "import tensorflow as tf\n",
    "import json\n",
    "import numpy as np\n",
    "from matplotlib import pyplot as plt"
   ]
  },
  {
   "cell_type": "code",
   "execution_count": 3,
   "id": "8f5ef329",
   "metadata": {},
   "outputs": [],
   "source": [
    "#limitació de la memòria GPU (buscar doc!!!)\n",
    "gpus = tf.config.experimental.list_physical_devices('GPU')\n",
    "for gpu in gpus: \n",
    "    tf.config.experimental.set_memory_growth(gpu, True)"
   ]
  },
  {
   "cell_type": "code",
   "execution_count": 5,
   "id": "13e8709e",
   "metadata": {},
   "outputs": [],
   "source": [
    "#carregar imatges dins de la pipeline\n",
    "imatges = tf.data.Dataset.list_files('data\\\\images\\\\*.png') # l'asterisc fa buscar tots els arxius que són png"
   ]
  },
  {
   "cell_type": "code",
   "execution_count": 6,
   "id": "79ef0171",
   "metadata": {},
   "outputs": [],
   "source": [
    "#funció carregar imatge\n",
    "def carregar_imatge(imatge): \n",
    "    byte_img = tf.io.read_file(imatge)\n",
    "    img = tf.io.decode_png(byte_img)\n",
    "    return img"
   ]
  },
  {
   "cell_type": "code",
   "execution_count": 8,
   "id": "d3b04708",
   "metadata": {},
   "outputs": [],
   "source": [
    "imatges = imatges.map(carregar_imatge)"
   ]
  },
  {
   "cell_type": "code",
   "execution_count": 9,
   "id": "8fef73f1",
   "metadata": {
    "collapsed": true
   },
   "outputs": [
    {
     "data": {
      "text/plain": [
       "array([[[ 75,  74,  80],\n",
       "        [ 74,  73,  82],\n",
       "        [ 75,  74,  82],\n",
       "        ...,\n",
       "        [ 89,  86,  91],\n",
       "        [ 89,  87,  93],\n",
       "        [ 86,  83,  90]],\n",
       "\n",
       "       [[ 76,  75,  82],\n",
       "        [ 76,  76,  82],\n",
       "        [ 76,  76,  82],\n",
       "        ...,\n",
       "        [ 91,  88,  94],\n",
       "        [ 88,  87,  94],\n",
       "        [ 87,  87,  93]],\n",
       "\n",
       "       [[ 77,  75,  82],\n",
       "        [ 78,  77,  83],\n",
       "        [ 75,  75,  82],\n",
       "        ...,\n",
       "        [ 90,  88,  94],\n",
       "        [ 89,  87,  92],\n",
       "        [ 88,  86,  93]],\n",
       "\n",
       "       ...,\n",
       "\n",
       "       [[101,  98, 104],\n",
       "        [ 98,  96, 102],\n",
       "        [ 98,  96, 102],\n",
       "        ...,\n",
       "        [115, 111, 118],\n",
       "        [116, 112, 119],\n",
       "        [114, 111, 119]],\n",
       "\n",
       "       [[ 97,  95, 100],\n",
       "        [ 99,  97, 102],\n",
       "        [ 97,  96, 102],\n",
       "        ...,\n",
       "        [115, 112, 118],\n",
       "        [114, 110, 117],\n",
       "        [114, 112, 118]],\n",
       "\n",
       "       [[ 97,  95, 100],\n",
       "        [ 98,  98, 103],\n",
       "        [ 97,  96, 103],\n",
       "        ...,\n",
       "        [116, 113, 119],\n",
       "        [116, 112, 117],\n",
       "        [113, 110, 116]]], dtype=uint8)"
      ]
     },
     "execution_count": 9,
     "metadata": {},
     "output_type": "execute_result"
    }
   ],
   "source": [
    "imatges.as_numpy_iterator().next()"
   ]
  },
  {
   "cell_type": "code",
   "execution_count": 10,
   "id": "02379d13",
   "metadata": {
    "scrolled": true
   },
   "outputs": [
    {
     "data": {
      "text/plain": [
       "tensorflow.python.data.ops.map_op._MapDataset"
      ]
     },
     "execution_count": 10,
     "metadata": {},
     "output_type": "execute_result"
    }
   ],
   "source": [
    "type(imatges) #si surt \"tensorflow.python.data.ops.map_op._MapDataset\", les imatges s'han inclòs correctament"
   ]
  },
  {
   "cell_type": "markdown",
   "id": "68f04239",
   "metadata": {},
   "source": [
    "### Divisió de dades per entrenar i validar"
   ]
  },
  {
   "cell_type": "code",
   "execution_count": 11,
   "id": "9706b3e8",
   "metadata": {},
   "outputs": [],
   "source": [
    "import os"
   ]
  },
  {
   "cell_type": "code",
   "execution_count": 17,
   "id": "6200a1ac",
   "metadata": {},
   "outputs": [],
   "source": [
    "def quantImatgesDividir(dir_carpeta):\n",
    "    num_elements = len(os.listdir(dir_carpeta))\n",
    "    n_entrenar = round(num_elements*0.7)\n",
    "    n_provar = round(num_elements*0.15)\n",
    "    n_validar = num_elements - (n_entrenar + n_provar)\n",
    "    print(f\"Has de posar {n_entrenar} a la carpeta 'train', {n_provar} a la carpeta 'test' i {n_validar} a la carpeta 'val'\")"
   ]
  },
  {
   "cell_type": "code",
   "execution_count": 18,
   "id": "ae416b1f",
   "metadata": {},
   "outputs": [
    {
     "name": "stdout",
     "output_type": "stream",
     "text": [
      "Has de posar 35 a la carpeta 'train', 8 a la carpeta 'test' i 7 a la carpeta 'val'\n"
     ]
    }
   ],
   "source": [
    "quantImatgesDividir('T:\\REP\\deteccio_prova\\data\\images')"
   ]
  },
  {
   "cell_type": "code",
   "execution_count": null,
   "id": "8ee4e38f",
   "metadata": {},
   "outputs": [],
   "source": []
  }
 ],
 "metadata": {
  "kernelspec": {
   "display_name": "Python 3 (ipykernel)",
   "language": "python",
   "name": "python3"
  },
  "language_info": {
   "codemirror_mode": {
    "name": "ipython",
    "version": 3
   },
   "file_extension": ".py",
   "mimetype": "text/x-python",
   "name": "python",
   "nbconvert_exporter": "python",
   "pygments_lexer": "ipython3",
   "version": "3.10.10"
  }
 },
 "nbformat": 4,
 "nbformat_minor": 5
}
